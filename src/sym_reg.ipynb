{
 "cells": [
  {
   "cell_type": "code",
   "execution_count": 9,
   "metadata": {},
   "outputs": [],
   "source": [
    "import math\n",
    "import numpy as np\n",
    "from tqdm import tqdm"
   ]
  },
  {
   "cell_type": "code",
   "execution_count": 10,
   "metadata": {},
   "outputs": [
    {
     "data": {
      "text/plain": [
       "{'divide': 'ignore', 'over': 'ignore', 'under': 'ignore', 'invalid': 'ignore'}"
      ]
     },
     "execution_count": 10,
     "metadata": {},
     "output_type": "execute_result"
    }
   ],
   "source": [
    "#warning settings\n",
    "np.seterr(all=\"ignore\") #ignore np warnings, the output will be nan or inf and will be handled correctly in the code. (using np.errstate slows down the code)"
   ]
  },
  {
   "cell_type": "code",
   "execution_count": 11,
   "metadata": {},
   "outputs": [],
   "source": [
    "# Configuration\n",
    "TRAIN_TEST_RATIO=0.7\n",
    "PROBLEM_NUMBER=5"
   ]
  },
  {
   "cell_type": "markdown",
   "metadata": {},
   "source": [
    "### Data Loading and Data Preprocessing"
   ]
  },
  {
   "cell_type": "code",
   "execution_count": 12,
   "metadata": {},
   "outputs": [
    {
     "name": "stdout",
     "output_type": "stream",
     "text": [
      "Problem number: 5, variables: 2, train size: 3500, test size: 1500\n",
      "Training data: x shape (2, 3500), y shape (3500,)\n",
      "Testing data: x shape (2, 1500), y shape (1500,)\n"
     ]
    }
   ],
   "source": [
    "# Load problem data with context manager protocol\n",
    "with np.load(f'../data/problem_{PROBLEM_NUMBER}.npz') as problem:\n",
    "    x_1 = problem['x']\n",
    "    y_1 = problem['y']\n",
    "\n",
    "# Shuffle the data\n",
    "permutation = np.random.permutation(len(y_1))\n",
    "x_1 = x_1[:, permutation]\n",
    "y_1 = y_1[permutation]\n",
    "\n",
    "# Determine train test split sizes\n",
    "problem_len=len(y_1)\n",
    "train_size=int(TRAIN_TEST_RATIO*problem_len)\n",
    "\n",
    "# Split data\n",
    "x_train = x_1[:, :train_size]\n",
    "y_train = y_1[:train_size]\n",
    "\n",
    "x_test = x_1[:, train_size:]\n",
    "y_test = y_1[train_size:]\n",
    "\n",
    "\n",
    "# Print dataset information\n",
    "print(f\"Problem number: {PROBLEM_NUMBER}, variables: {x_1.shape[0]}, train size: {train_size}, test size: {problem_len-train_size}\")\n",
    "\n",
    "print(f\"Training data: x shape {x_train.shape}, y shape {y_train.shape}\")\n",
    "print(f\"Testing data: x shape {x_test.shape}, y shape {y_test.shape}\")\n",
    "\n"
   ]
  },
  {
   "cell_type": "markdown",
   "metadata": {},
   "source": [
    "### Numpy functions definition"
   ]
  },
  {
   "cell_type": "code",
   "execution_count": 13,
   "metadata": {},
   "outputs": [],
   "source": [
    "unary_ops = [\n",
    "    np.negative,\n",
    "    np.abs,\n",
    "    np.sqrt,\n",
    "    np.exp,\n",
    "    np.log,\n",
    "    np.sin,\n",
    "    np.cos,\n",
    "    np.tan,\n",
    "    np.arcsin,\n",
    "    np.arccos,\n",
    "    np.arctan,\n",
    "    np.sinh,\n",
    "    np.cosh,\n",
    "    np.tanh,\n",
    "    np.square,\n",
    "    np.cbrt,\n",
    "    np.reciprocal,\n",
    "\n",
    "    np.ceil,\n",
    "    np.floor\n",
    "]\n",
    "\n",
    "binary_ops = [\n",
    "    np.add,\n",
    "    np.subtract,\n",
    "    np.multiply,\n",
    "    np.divide,\n",
    "    np.power,\n",
    "    np.maximum,\n",
    "    np.minimum,\n",
    "    np.mod\n",
    "]"
   ]
  },
  {
   "cell_type": "markdown",
   "metadata": {},
   "source": [
    "### Symbolic Regression Class"
   ]
  },
  {
   "cell_type": "code",
   "execution_count": 14,
   "metadata": {},
   "outputs": [],
   "source": [
    "from tree import Tree\n",
    "\n",
    "class SymbolicRegression:\n",
    "    def __init__(self, population_per_island,island_num, max_generations, mutation_rate, elitism_size, grow_full_ratio,max_mutations,migration_rate,collapse_rate):\n",
    "        self.population_per_island = population_per_island\n",
    "        self.island_num = island_num\n",
    "        self.max_generations = max_generations\n",
    "        self.mutation_rate = mutation_rate\n",
    "        self.elitism_size = elitism_size\n",
    "        self.grow_full_ratio = grow_full_ratio\n",
    "        self.max_mutations = max_mutations\n",
    "        self.unary_ops = unary_ops\n",
    "        self.binary_ops = binary_ops\n",
    "        self.migration_rate=migration_rate\n",
    "        self.best_fitness_history = []\n",
    "     \n",
    "        self.population = [None] * island_num\n",
    "        self.collapse_rate=collapse_rate\n",
    "\n",
    "        for j in range(island_num):\n",
    "            self.population[j] = np.array([\n",
    "                Tree(\"grow\") if i < int(population_per_island * self.grow_full_ratio) else Tree(\"full\") for i in range(population_per_island)\n",
    "            ])\n",
    "\n",
    "        \n",
    "         \n",
    "\n",
    "\n",
    "    # Parents selection methods\n",
    "    def select_parents_fitness_proportional(self, n_elems=2, epsilon=1e-10,island=0):\n",
    "        \"\"\"\n",
    "        Fitness proportional selection method.\n",
    "        Randomly selects n_elems individuals based on their fitness.\n",
    "        Individuals with lower fitness have an higher probability to be selected.\n",
    "        Premature convergence if few individuals have significantly better fitness than others.\n",
    "        n_elems: number of elements to select.\n",
    "        epsilon: small value to avoid division by zero.\n",
    "        island: on which island the selection should be done.\n",
    "        \"\"\"\n",
    "        fitnesses = [tree.fitness for tree in self.population[island]]\n",
    "        inverted_fitnesses = [1 / (fitness + epsilon) for fitness in fitnesses]  # avoid division by zero\n",
    "        probabilities = inverted_fitnesses / sum(inverted_fitnesses)\n",
    "        parent1, parent2 = np.random.choice(self.population[island], size=n_elems, p=probabilities, replace=False)\n",
    "        return parent1, parent2\n",
    "    \n",
    "    def select_parents_lexicase(self, population, num_parents,island_num=0):\n",
    "        selected_parents = []\n",
    "        test_cases = list(range(len(population[island_num].fitness)))  # assuming fitness is a list of test case results\n",
    "\n",
    "        while len(selected_parents) < num_parents:\n",
    "            eligible = population[island_num][:]\n",
    "            np.random.shuffle(test_cases)  # Randomize order of test cases\n",
    "\n",
    "            for test in test_cases:\n",
    "                min_fitness = min(individual.fitness[test] for individual in eligible)\n",
    "                eligible = [individual for individual in eligible if individual.fitness[test] == min_fitness]\n",
    "\n",
    "                if len(eligible) <= 1:\n",
    "                    break\n",
    "\n",
    "            selected_parents.append(eligible[0])  # Select one of the remaining eligible individuals randomly\n",
    "\n",
    "        return selected_parents\n",
    "\n",
    "    def select_parents_rank_based(self, n_elems=2,island=0,exponential=False):\n",
    "        \"\"\"\n",
    "        Rank-based selection method.\n",
    "        Assigns probabilities based on inversed ranks instead of absolute fitness values.\n",
    "        n_elems: number of elements to select.\n",
    "        island: on which island the selection should be done.\n",
    "        exponential: if True, the ranks are raised to the power of the exponential parameter.\n",
    "        \"\"\"\n",
    "        fitnesses = np.array([tree.fitness for tree in self.population[island]])\n",
    "        ranks = np.argsort(fitnesses)\n",
    "        if exponential:\n",
    "            ranks = ranks**exponential\n",
    "        inversed_ranks = len(fitnesses) - ranks\n",
    "        probabilities = inversed_ranks / np.sum(inversed_ranks)\n",
    "        return np.random.choice(self.population[island], n_elems, p=probabilities, replace=False)\n",
    "    \n",
    "    def select_parents_tournament(self,island=0):\n",
    "        \"\"\"\n",
    "        Tournament selection method.\n",
    "        Randomly selects a subset of the population and selects the best individual from the subset.\n",
    "        \"\"\"\n",
    "        tournament_size = 5\n",
    "        tournament = list(np.random.choice(self.population[island], tournament_size, replace=True))\n",
    "        tournament.sort(key=lambda x: x.fitness)\n",
    "        return tournament[0], tournament[1]\n",
    "    \n",
    "    def select_parents(self, island, method=\"rank\"):\n",
    "        \"\"\"\n",
    "        Select parents based on the specified method.\n",
    "        island: on which island the selection should be done\n",
    "        method: which parent selection method to use. Default is \"rank\". Options are \"rank\", \"fitness_proportional\", \"tournament\".\n",
    "        \"\"\"\n",
    "        match method:\n",
    "            case \"rank\":\n",
    "                return self.select_parents_rank_based(island=island)\n",
    "            case \"fitness_proportional\":\n",
    "                return self.select_parents_fitness_proportional(island=island)\n",
    "            case \"tournament\":\n",
    "                return self.select_parents_tournament(island=island)\n",
    "            case _:\n",
    "                return self.select_parents_rank_based(island=island)\n",
    "            \n",
    "\n",
    "    \n",
    "    # Mutation methods\n",
    "    def mutate(self, tree):\n",
    "        if np.random.rand() < 0.5:\n",
    "            tree.mutate_subtree()\n",
    "        else:\n",
    "            mutations = np.random.randint(1, self.max_mutations+1)\n",
    "            tree.mutate_single_node(num_mutations=mutations)\n",
    "        \n",
    "       \n",
    "\n",
    "\n",
    "    # Offsprings generation via mutation and crossover\n",
    "    def offspring_generation(self,island):\n",
    "        new_population = np.array([])\n",
    "\n",
    "        # Elitism   \n",
    "        elite_individuals = self.population[island][:self.elitism_size]\n",
    "        new_population = elite_individuals\n",
    "\n",
    "        # Main loop\n",
    "        while len(new_population) < self.population_per_island//2: \n",
    "            parent1, parent2 = self.select_parents(island=island)\n",
    "            # generate offsprings (one in mutation, two in crossover)\n",
    "            offsprings = np.array([])\n",
    "\n",
    "            if(np.random.rand() < self.mutation_rate):\n",
    "                parent_clone = parent1.copy_tree()\n",
    "                self.mutate(parent_clone)\n",
    "              \n",
    "                parent_clone.compute_fitness()\n",
    "                #if the fitness is valid \n",
    "                if(parent_clone.fitness is not np.inf and parent_clone.fitness is not np.nan):\n",
    "                    #to not re-add the same tree if the mutation was not possible (e.g. the tree is already a leaf and other edge cases)\n",
    "                    if( parent_clone.fitness!=parent1.fitness):\n",
    "                        offsprings = np.append(offsprings, [parent_clone])\n",
    "\n",
    "            else:    \n",
    "                offspring1, offspring2 = parent1.crossover(parent2)\n",
    "                if(offspring1 is not None and offspring2 is not None):\n",
    "               \n",
    "                    offspring1.compute_fitness()\n",
    "                    offspring2.compute_fitness()\n",
    "\n",
    "                    offsprings = np.append(offsprings, [offspring1, offspring2])\n",
    "\n",
    "            # Collapse branch\n",
    "            for offsp in offsprings:\n",
    "                if(np.random.rand() < self.collapse_rate):\n",
    "                    #clone the tree and collapse the branch\n",
    "                    tree_clone = offsp.copy_tree()\n",
    "                \n",
    "                    Tree.collapse_branch(tree_clone.root,force_collapse=True)\n",
    "                    tree_clone.compute_fitness()\n",
    "                    #if the fitness is not nan or inf after collapsing\n",
    "                    if(tree_clone.fitness is not None or tree_clone.fitness is not np.inf and tree_clone.fitness is not np.nan):\n",
    "                            offsp = tree_clone\n",
    "\n",
    "            new_population = np.concatenate((new_population, offsprings))\n",
    "                \n",
    "        return new_population\n",
    "    \n",
    "    # Genetic Algorithm: Evolutionary Process\n",
    "    def evolve(self,verbose=False,use_std_operators=False):\n",
    "        best_tree_island = np.full(self.island_num, None, dtype=object)\n",
    "        best_fitness_island = np.full(self.island_num, np.inf)\n",
    "        global_best_fitness = np.inf\n",
    "        global_best_tree = None\n",
    "        take_over = np.full(self.island_num, False)\n",
    "        # self.population_per_island.sort(key=lambda x: x.fitness) \n",
    "        #numpy sort of population over fitness\n",
    "        for i in range(self.island_num):\n",
    "            self.population[i].sort()\n",
    "      \n",
    "\n",
    "\n",
    "        for generation in tqdm(range(self.max_generations)):\n",
    "           \n",
    "            for i in range(self.island_num):\n",
    "                if take_over[i]:\n",
    "                    # print(f\"Takeover at {generation} gen,island: {i}\")\n",
    "                    self.population[i] = np.unique(self.population[i])\n",
    "                    new_trees = np.array([Tree(\"grow\") for _ in range(self.population_per_island-len(self.population[i]))])\n",
    "                 \n",
    "                    self.population[i] = np.concatenate((self.population[i],new_trees))\n",
    "                    self.population[i].sort()\n",
    "                \n",
    "\n",
    "                if np.random.rand()<self.migration_rate and self.island_num>1:\n",
    "                    #pick a random island to migrate to \n",
    "                    island_to_migrate = np.random.randint(0,self.island_num)\n",
    "                    #select a random number from 0 to the population size of the current island\n",
    "                    random_index = np.random.randint(0,len(self.population[i]))\n",
    "                    \n",
    "                    self.population[island_to_migrate]=np.append(self.population[island_to_migrate],self.population[i][random_index])\n",
    "                    #remove the tree from the current island\n",
    "                    self.population[i]=np.delete(self.population[i],random_index)\n",
    "                    \n",
    "\n",
    "                    if(verbose):\n",
    "                        print(f\"Migration at {generation} gen from {i} to {island_to_migrate}\")\n",
    "\n",
    "\n",
    "                new_population=self.offspring_generation(island=i)\n",
    "                    \n",
    "                self.population[i]=np.concatenate((self.population[i],new_population))\n",
    "                self.population[i].sort()\n",
    "                \n",
    "                generation_best_fitness_island = self.population[i][0].fitness\n",
    "\n",
    "                if generation_best_fitness_island < best_fitness_island[i]:\n",
    "                    best_fitness_island[i] = generation_best_fitness_island\n",
    "                    best_tree_island[i] = self.population[i][0]\n",
    "                    \n",
    "\n",
    "                    if(best_fitness_island[i] < global_best_fitness):\n",
    "                        global_best_fitness = best_fitness_island[i]\n",
    "                        global_best_tree = best_tree_island[i]\n",
    "                        self.best_fitness_history.append((best_fitness_island[i], generation))\n",
    "\n",
    "\n",
    "                #trim the population to the best island_population\n",
    "                self.population[i] = self.population[i][:self.population_per_island]\n",
    "\n",
    "                \n",
    "                \n",
    "                n_best = [elem for elem in self.population[i] if elem.fitness == self.population[i][0].fitness]\n",
    "                take_over[i] = False\n",
    "                if len(n_best) > 0.5 * self.population_per_island:\n",
    "                        take_over[i] = True\n",
    "                        # print(f\"Takeover at {generation} gen\")     \n",
    "                if(generation%100==0 and verbose):\n",
    "                        print(f\"Generation {generation + 1}, Island: {i}, Best Fitness: {best_fitness_island[i]}, Best Formula: {best_tree_island[i].to_np_formula(use_std_operators=use_std_operators)}\")\n",
    "            \n",
    "                if global_best_fitness <= 1e-33:\n",
    "                    break   \n",
    "\n",
    "            if(generation%100==0 and not verbose):\n",
    "                print(f\"Generation {generation + 1}, Best Fitness: {global_best_fitness}, Best Formula: {global_best_tree.to_np_formula(use_std_operators=use_std_operators)}\")\n",
    "\n",
    "        return global_best_tree, global_best_fitness"
   ]
  },
  {
   "cell_type": "markdown",
   "metadata": {},
   "source": [
    "### Problem Definition and Symbolic Regression Initialization"
   ]
  },
  {
   "cell_type": "code",
   "execution_count": 15,
   "metadata": {},
   "outputs": [],
   "source": [
    "# --ISLAND SETTINGS--\n",
    "ISLAND_POPULATION = 70\n",
    "ISLAND_NUM = 4\n",
    "MIGRATION_RATE = 0.0005\n",
    "\n",
    "\n",
    "# --TREE SETTINGS--\n",
    "TREE_MAX_DEPTH = 4\n",
    "TREE_SPAWN_DEPTH = 3 #the max depth at which the tree will be spawned, they can grow up to TREE_MAX_DEPTH\n",
    "\n",
    "\n",
    "\n",
    "# --GENETIC ALGORITHM SETTINGS--\n",
    "MAX_GENERATIONS = 200000\n",
    "ELITISM_SIZE = 1\n",
    "VAR_NUM = x_train.shape[0]\n",
    "CONST_RANGE = 10 # Constats will be in the range [-CONST_RANGE, CONST_RANGE]\n",
    "MAX_MUTATIONS = 3  # Maximum number of mutations in a single mutation operation\n",
    "MUTATION_RATE = 0.35\n",
    "GROW_FULL_RATIO = 0.95\n",
    "COLLAPSE_RATE = 0.3\n",
    "\n",
    "# --DEPTH CHECK--\n",
    "min_depth_data = math.ceil(math.log(x_train.shape[0],2))\n",
    "if(TREE_SPAWN_DEPTH<min_depth_data):\n",
    "    TREE_SPAWN_DEPTH = min_depth_data\n",
    "    print(f\"Spawn depth too low, set to {TREE_SPAWN_DEPTH}\")\n",
    "\n",
    "if(TREE_MAX_DEPTH<TREE_SPAWN_DEPTH):\n",
    "    TREE_MAX_DEPTH = TREE_SPAWN_DEPTH+1\n",
    "    print(f\"Max depth too low, set to {TREE_MAX_DEPTH}\")\n",
    "\n",
    "\n",
    "Tree.set_params(unary_ops, binary_ops, VAR_NUM, CONST_RANGE,TREE_MAX_DEPTH,TREE_SPAWN_DEPTH, x_train, y_train, x_test, y_test)\n",
    "regressor = SymbolicRegression(\n",
    "    ISLAND_POPULATION,\n",
    "    ISLAND_NUM,\n",
    "    MAX_GENERATIONS,\n",
    "    MUTATION_RATE,\n",
    "    ELITISM_SIZE,\n",
    "    GROW_FULL_RATIO,\n",
    "    MAX_MUTATIONS,\n",
    "    MIGRATION_RATE,\n",
    "    COLLAPSE_RATE\n",
    "    \n",
    ")\n",
    "#print the trees\n"
   ]
  },
  {
   "cell_type": "markdown",
   "metadata": {},
   "source": [
    "### Algorithm Execution and Results Computation"
   ]
  },
  {
   "cell_type": "code",
   "execution_count": 16,
   "metadata": {},
   "outputs": [
    {
     "name": "stderr",
     "output_type": "stream",
     "text": [
      "  0%|          | 0/200000 [00:00<?, ?it/s]"
     ]
    },
    {
     "name": "stdout",
     "output_type": "stream",
     "text": [
      "Generation 1, Island: 0, Best Fitness: 5.861267931148155e-18, Best Formula: np.divide(np.power(np.subtract(x[0], x[0]), x[1]), np.absolute(np.minimum(-7.0480246525539965, 8.615782063661463)))\n"
     ]
    },
    {
     "name": "stderr",
     "output_type": "stream",
     "text": [
      "  0%|          | 2/200000 [00:00<2:47:26, 19.91it/s]"
     ]
    },
    {
     "name": "stdout",
     "output_type": "stream",
     "text": [
      "Generation 1, Island: 1, Best Fitness: 1.30957278457615e-10, Best Formula: np.power(np.add(np.remainder(-9.3856270731813, 4.3208704331798575), np.sqrt(x[1])), np.minimum(np.power(0.8400598239213242, x[0]), -7.528946770744797))\n",
      "Generation 1, Island: 2, Best Fitness: 0.00015611019355547213, Best Formula: np.reciprocal(np.maximum(np.square(-8.946273989060296), np.multiply(x[1], x[0])))\n",
      "Generation 1, Island: 3, Best Fitness: 0.0030351826596571917, Best Formula: np.remainder(np.divide(np.minimum(x[1], 9.134937759906727), np.remainder(x[0], -3.648344642865262)), np.subtract(np.remainder(-2.87817858359547, -3.014209123613936), np.minimum(-1.1763253512381073, -2.973297908489185)))\n"
     ]
    },
    {
     "name": "stderr",
     "output_type": "stream",
     "text": [
      "  0%|          | 97/200000 [00:05<2:54:31, 19.09it/s]"
     ]
    },
    {
     "name": "stdout",
     "output_type": "stream",
     "text": [
      "Migration at 94 gen from 1 to 3\n"
     ]
    },
    {
     "name": "stderr",
     "output_type": "stream",
     "text": [
      "  0%|          | 102/200000 [00:05<2:49:06, 19.70it/s]"
     ]
    },
    {
     "name": "stdout",
     "output_type": "stream",
     "text": [
      "Generation 101, Island: 0, Best Fitness: 3.4440717561388092e-18, Best Formula: np.divide(np.subtract(np.sqrt(1.5221462733547462), np.remainder(np.minimum(x[1], x[0]), 9.244236478213807)), np.power(9.204064457284694, 9.244236478213807))\n",
      "Generation 101, Island: 1, Best Fitness: 4.5549343032646095e-18, Best Formula: np.multiply(np.power(np.add(np.subtract(-7.528946770744797, 9.544393858703089), np.multiply(7.909916630317696, 5.097149027011255)), -7.528946770744797), np.add(np.subtract(np.subtract(-1.9677373166304317, x[1]), np.subtract(9.401232101851125, -7.528946770744797)), np.multiply(np.subtract(3.2548353627589997, x[0]), np.subtract(5.097149027011255, -7.528946770744797))))\n",
      "Generation 101, Island: 2, Best Fitness: 2.744740643020235e-18, Best Formula: np.divide(np.remainder(np.power(np.remainder(-6.867017982069563, 6.640532133445149), np.power(6.640532133445149, -6.867017982069563)), np.power(6.640532133445149, -9.80827186072355)), np.add(np.log(x[0]), np.remainder(x[1], -6.867017982069563)))\n",
      "Generation 101, Island: 3, Best Fitness: 4.559375418068308e-18, Best Formula: np.multiply(np.power(np.add(np.subtract(-7.528946770744797, 9.401232101851125), np.multiply(7.909916630317696, 5.097149027011255)), -7.528946770744797), np.add(np.subtract(np.subtract(-1.9677373166304317, x[1]), np.subtract(9.401232101851125, -8.166252220179405)), np.multiply(np.subtract(3.2548353627589997, x[0]), np.subtract(5.097149027011255, -7.528946770744797))))\n"
     ]
    },
    {
     "name": "stderr",
     "output_type": "stream",
     "text": [
      "  0%|          | 204/200000 [00:10<2:29:54, 22.21it/s]"
     ]
    },
    {
     "name": "stdout",
     "output_type": "stream",
     "text": [
      "Generation 201, Island: 0, Best Fitness: 3.081660927846191e-18, Best Formula: np.divide(np.subtract(np.maximum(np.add(-8.128948497998987, 9.564549303678323), np.tan(0.5949329665717666)), np.power(np.minimum(x[1], x[0]), np.add(-8.128948497998987, 9.564549303678323))), np.power(9.564549303678323, 9.244236478213807))\n",
      "Generation 201, Island: 1, Best Fitness: 4.554603787967915e-18, Best Formula: np.multiply(np.power(np.add(np.subtract(-7.528946770744797, 9.707628296122827), np.multiply(7.909916630317696, 5.097149027011255)), -7.528946770744797), np.add(np.subtract(np.subtract(-8.635096964944093, x[1]), np.subtract(9.544393858703089, -0.20543636542821808)), np.multiply(np.subtract(3.2548353627589997, x[0]), np.subtract(5.097149027011255, -7.528946770744797))))\n",
      "Generation 201, Island: 2, Best Fitness: 2.744423768605127e-18, Best Formula: np.divide(np.remainder(np.power(np.remainder(-6.867017982069563, 2.063806354970371), np.power(6.640532133445149, 1.1920860040925803)), np.power(6.640532133445149, -9.80827186072355)), np.add(np.log(x[0]), np.remainder(x[1], -6.867017982069563)))\n",
      "Generation 201, Island: 3, Best Fitness: 3.961406453428226e-18, Best Formula: np.multiply(np.power(np.add(np.subtract(-7.528946770744797, 9.401232101851125), np.multiply(7.909916630317696, 5.097149027011255)), -7.528946770744797), np.add(np.subtract(np.multiply(-8.07928729799915, x[1]), np.subtract(7.909916630317696, 5.097149027011255)), np.multiply(np.subtract(3.2548353627589997, x[0]), np.subtract(5.097149027011255, -7.528946770744797))))\n"
     ]
    },
    {
     "name": "stderr",
     "output_type": "stream",
     "text": [
      "  0%|          | 303/200000 [00:14<2:36:32, 21.26it/s]"
     ]
    },
    {
     "name": "stdout",
     "output_type": "stream",
     "text": [
      "Generation 301, Island: 0, Best Fitness: 1.7572096475444035e-18, Best Formula: np.divide(np.subtract(np.minimum(np.minimum(x[1], x[0]), np.maximum(-1.0232960364023196, 2.3277656640177327)), np.power(np.minimum(x[1], x[0]), np.cbrt(x[1]))), np.power(9.564549303678323, 9.244236478213807))\n",
      "Generation 301, Island: 1, Best Fitness: 3.8832454233636765e-18, Best Formula: np.multiply(np.power(np.add(np.subtract(-7.528946770744797, 9.707628296122827), np.multiply(7.909916630317696, 5.097149027011255)), -7.528946770744797), np.add(np.subtract(np.multiply(-9.098478451321228, x[1]), np.add(-9.098478451321228, 5.5734320608135395)), np.multiply(np.subtract(3.2548353627589997, x[0]), np.subtract(3.2548353627589997, -7.528946770744797))))\n",
      "Generation 301, Island: 2, Best Fitness: 2.744423768605127e-18, Best Formula: np.divide(np.remainder(np.power(np.remainder(-6.867017982069563, 2.063806354970371), np.power(6.640532133445149, 1.1920860040925803)), np.power(6.640532133445149, -9.80827186072355)), np.add(np.log(x[0]), np.remainder(x[1], -6.867017982069563)))\n",
      "Generation 301, Island: 3, Best Fitness: 3.8395180240560205e-18, Best Formula: np.multiply(np.power(np.add(np.subtract(-8.07928729799915, 9.401232101851125), np.multiply(7.909916630317696, 5.097149027011255)), -7.528946770744797), np.add(np.minimum(np.multiply(-9.046826560697578, x[1]), np.subtract(x[1], 7.909916630317696)), np.multiply(np.subtract(3.7966460032819107, x[0]), np.subtract(3.0710083566136444, -7.528946770744797))))\n"
     ]
    },
    {
     "name": "stderr",
     "output_type": "stream",
     "text": [
      "  0%|          | 402/200000 [00:19<2:41:12, 20.64it/s]"
     ]
    },
    {
     "name": "stdout",
     "output_type": "stream",
     "text": [
      "Generation 401, Island: 0, Best Fitness: 1.5169903145913133e-18, Best Formula: np.divide(np.subtract(np.minimum(np.minimum(x[1], x[0]), np.add(3.095848029675185, 0.00010578833053642711)), np.power(np.minimum(x[1], x[0]), np.cbrt(x[1]))), np.power(9.539764686031283, 9.244236478213807))\n",
      "Generation 401, Island: 1, Best Fitness: 3.758394555218291e-18, Best Formula: np.multiply(np.power(np.add(np.add(-7.528946770744797, 9.707628296122827), np.multiply(4.01581188837876, 5.097149027011255)), -7.528946770744797), np.add(np.subtract(np.multiply(-9.098478451321228, x[1]), -5.4645977083817066), np.multiply(np.subtract(3.2548353627589997, x[0]), np.add(9.707628296122827, x[0]))))\n",
      "Generation 401, Island: 2, Best Fitness: 1.3149014510015988e-18, Best Formula: np.divide(np.remainder(np.power(np.remainder(-3.659304678499879, 2.063806354970371), np.ceil(x[0])), np.power(6.640532133445149, -9.80827186072355)), np.add(np.log(x[0]), np.remainder(x[1], -6.867017982069563)))\n",
      "Generation 401, Island: 3, Best Fitness: 3.7829961991508015e-18, Best Formula: np.multiply(np.power(np.add(np.subtract(-8.07928729799915, 9.875876555275017), np.multiply(7.909916630317696, 5.097149027011255)), -7.528946770744797), np.add(np.minimum(np.multiply(-9.046826560697578, x[1]), np.add(-7.076277618619762, -7.528946770744797)), np.multiply(np.subtract(3.948471047567704, x[0]), np.subtract(3.0710083566136444, -7.076277618619762))))\n"
     ]
    },
    {
     "name": "stderr",
     "output_type": "stream",
     "text": [
      "  0%|          | 502/200000 [00:24<2:41:16, 20.62it/s]"
     ]
    },
    {
     "name": "stdout",
     "output_type": "stream",
     "text": [
      "Generation 501, Island: 0, Best Fitness: 1.510186576903695e-18, Best Formula: np.divide(np.subtract(np.minimum(np.minimum(x[1], x[0]), np.add(3.095848029675185, 0.12006179148642815)), np.power(np.minimum(x[1], x[0]), np.cbrt(x[1]))), np.power(9.539764686031283, 9.244236478213807))\n",
      "Generation 501, Island: 1, Best Fitness: 3.71430994993066e-18, Best Formula: np.multiply(np.power(np.add(np.divide(8.561000050743122, 5.097149027011255), np.multiply(4.01581188837876, 5.097149027011255)), -7.528946770744797), np.add(np.subtract(np.multiply(-9.098478451321228, x[1]), -9.098478451321228), np.multiply(np.subtract(3.2548353627589997, x[0]), np.add(6.677127152476238, x[0]))))\n",
      "Generation 501, Island: 2, Best Fitness: 1.0334521045688999e-18, Best Formula: np.divide(np.remainder(np.power(np.remainder(5.31473368012038, 2.063806354970371), np.ceil(x[0])), np.power(6.640532133445149, -9.80827186072355)), np.add(np.log(x[0]), np.remainder(x[1], -6.670338566717097)))\n",
      "Generation 501, Island: 3, Best Fitness: 3.77844751203036e-18, Best Formula: np.multiply(np.power(np.add(np.subtract(-8.07928729799915, 9.875876555275017), np.multiply(7.909916630317696, 5.097149027011255)), -7.528946770744797), np.add(np.minimum(np.multiply(-9.046826560697578, x[1]), np.add(-9.046826560697578, -4.0684547302498135)), np.multiply(np.subtract(3.948471047567704, x[0]), np.subtract(3.0710083566136444, -6.913902674265106))))\n"
     ]
    },
    {
     "name": "stderr",
     "output_type": "stream",
     "text": [
      "  0%|          | 602/200000 [00:29<3:06:38, 17.81it/s]"
     ]
    },
    {
     "name": "stdout",
     "output_type": "stream",
     "text": [
      "Generation 601, Island: 0, Best Fitness: 1.510186576903695e-18, Best Formula: np.divide(np.subtract(np.minimum(np.minimum(x[1], x[0]), np.add(3.095848029675185, 0.12006179148642815)), np.power(np.minimum(x[1], x[0]), np.cbrt(x[1]))), np.power(9.539764686031283, 9.244236478213807))\n",
      "Generation 601, Island: 1, Best Fitness: 2.494836514800575e-18, Best Formula: np.multiply(np.power(np.add(np.subtract(3.2548353627589997, x[0]), np.multiply(4.01581188837876, 5.097149027011255)), -7.528946770744797), np.multiply(np.maximum(np.sinh(-3.9990188889247813), x[1]), np.subtract(np.subtract(3.2548353627589997, x[0]), x[0])))\n",
      "Generation 601, Island: 2, Best Fitness: 9.91531708086481e-19, Best Formula: np.divide(np.remainder(np.power(-5.1180784522442995, np.ceil(x[0])), np.remainder(-4.739566241963901, np.power(6.640532133445149, -9.80827186072355))), np.add(np.log(x[0]), np.remainder(x[1], -6.670338566717097)))\n",
      "Generation 601, Island: 3, Best Fitness: 3.77844751203036e-18, Best Formula: np.multiply(np.power(np.add(np.subtract(-8.07928729799915, 9.875876555275017), np.multiply(7.909916630317696, 5.097149027011255)), -7.528946770744797), np.add(np.minimum(np.multiply(-9.046826560697578, x[1]), np.add(-9.046826560697578, -4.0684547302498135)), np.multiply(np.subtract(3.948471047567704, x[0]), np.subtract(3.0710083566136444, -6.913902674265106))))\n"
     ]
    },
    {
     "name": "stderr",
     "output_type": "stream",
     "text": [
      "  0%|          | 703/200000 [00:34<2:51:18, 19.39it/s]"
     ]
    },
    {
     "name": "stdout",
     "output_type": "stream",
     "text": [
      "Generation 701, Island: 0, Best Fitness: 1.5097719233775463e-18, Best Formula: np.divide(np.subtract(np.minimum(np.minimum(x[1], x[0]), np.add(3.134528394540091, 0.12006179148642815)), np.power(np.minimum(x[1], x[0]), np.cbrt(x[1]))), np.power(9.539764686031283, 9.244236478213807))\n",
      "Generation 701, Island: 1, Best Fitness: 2.493901641130007e-18, Best Formula: np.multiply(np.power(np.add(np.subtract(3.2548353627589997, x[0]), np.multiply(4.01581188837876, 5.1009025980894265)), -7.528946770744797), np.multiply(np.maximum(np.subtract(1.552741103458434, x[0]), x[1]), np.subtract(np.subtract(3.2548353627589997, x[0]), x[0])))\n",
      "Generation 701, Island: 2, Best Fitness: 9.140708741178857e-19, Best Formula: np.divide(np.remainder(np.maximum(np.remainder(-5.1180784522442995, 4.947155309553766), np.ceil(x[0])), np.remainder(np.power(6.640532133445149, -9.80827186072355), np.power(6.0660673408537775, -9.80827186072355))), np.add(np.log(x[0]), np.remainder(x[1], -6.670338566717097)))\n",
      "Generation 701, Island: 3, Best Fitness: 3.671718015857935e-18, Best Formula: np.multiply(np.power(np.add(np.subtract(-8.07928729799915, 9.875876555275017), np.multiply(7.909916630317696, 5.097149027011255)), -7.528946770744797), np.add(np.minimum(np.multiply(-8.07928729799915, x[1]), np.minimum(-8.07928729799915, 6.765600625361554)), np.multiply(np.subtract(3.948471047567704, x[0]), np.multiply(x[0], 6.445891273953059))))\n"
     ]
    },
    {
     "name": "stderr",
     "output_type": "stream",
     "text": [
      "  0%|          | 802/200000 [00:40<2:51:09, 19.40it/s]"
     ]
    },
    {
     "name": "stdout",
     "output_type": "stream",
     "text": [
      "Generation 801, Island: 0, Best Fitness: 1.5097719233775463e-18, Best Formula: np.divide(np.subtract(np.minimum(np.minimum(x[1], x[0]), np.add(3.134528394540091, 0.12006179148642815)), np.power(np.minimum(x[1], x[0]), np.cbrt(x[1]))), np.power(9.539764686031283, 9.244236478213807))\n",
      "Generation 801, Island: 1, Best Fitness: 1.2028592724019285e-18, Best Formula: np.multiply(np.power(np.add(np.subtract(4.01581188837876, x[0]), np.multiply(3.2548353627589997, 5.1009025980894265)), -7.528946770744797), np.multiply(np.minimum(np.add(0.5800574904337363, x[0]), x[1]), np.subtract(2.566683820622531, x[1])))\n",
      "Generation 801, Island: 2, Best Fitness: 8.559503264328049e-19, Best Formula: np.divide(np.remainder(np.maximum(np.remainder(-8.398320313682184, 6.0660673408537775), np.ceil(x[0])), np.remainder(-4.739566241963901, np.power(6.640532133445149, -9.80827186072355))), np.add(np.log(x[0]), np.remainder(x[1], -6.670338566717097)))\n",
      "Generation 801, Island: 3, Best Fitness: 3.671712359793218e-18, Best Formula: np.multiply(np.power(np.add(np.subtract(-8.07928729799915, 9.875876555275017), np.multiply(7.909916630317696, 5.097149027011255)), -7.528946770744797), np.add(np.minimum(np.multiply(-8.07928729799915, x[1]), np.minimum(-8.07928729799915, -8.146430123388988)), np.multiply(np.subtract(3.948471047567704, x[0]), np.multiply(x[0], 6.445891273953059))))\n"
     ]
    },
    {
     "name": "stderr",
     "output_type": "stream",
     "text": [
      "  0%|          | 902/200000 [00:45<2:55:11, 18.94it/s]"
     ]
    },
    {
     "name": "stdout",
     "output_type": "stream",
     "text": [
      "Generation 901, Island: 0, Best Fitness: 1.5097719233775463e-18, Best Formula: np.divide(np.subtract(np.minimum(np.minimum(x[1], x[0]), np.add(3.134528394540091, 0.12006179148642815)), np.power(np.minimum(x[1], x[0]), np.cbrt(x[1]))), np.power(9.539764686031283, 9.244236478213807))\n",
      "Generation 901, Island: 1, Best Fitness: 1.104187803752939e-18, Best Formula: np.multiply(np.power(np.add(np.subtract(4.01581188837876, x[0]), np.multiply(3.2548353627589997, 5.1009025980894265)), -7.528946770744797), np.multiply(np.minimum(np.minimum(5.1009025980894265, x[0]), x[1]), np.subtract(np.sqrt(5.1009025980894265), x[1])))\n",
      "Generation 901, Island: 2, Best Fitness: 7.079711983304432e-19, Best Formula: np.divide(np.remainder(np.maximum(np.remainder(-3.4562835029383354, 6.640532133445149), np.ceil(x[0])), np.remainder(0.7144106861150625, np.power(6.640532133445149, -9.80827186072355))), np.add(np.log(x[0]), np.remainder(x[1], -6.670338566717097)))\n",
      "Generation 901, Island: 3, Best Fitness: 3.669921690603792e-18, Best Formula: np.multiply(np.power(np.add(np.subtract(-8.07928729799915, 9.875876555275017), np.multiply(7.909916630317696, 5.097149027011255)), -7.528946770744797), np.add(np.minimum(np.multiply(-7.9111368290191315, x[1]), np.minimum(-8.07928729799915, -8.146430123388988)), np.multiply(np.subtract(3.948471047567704, x[0]), np.multiply(x[0], 6.445891273953059))))\n"
     ]
    },
    {
     "name": "stderr",
     "output_type": "stream",
     "text": [
      "  1%|          | 1003/200000 [00:50<2:56:32, 18.79it/s]"
     ]
    },
    {
     "name": "stdout",
     "output_type": "stream",
     "text": [
      "Generation 1001, Island: 0, Best Fitness: 1.5097719233775463e-18, Best Formula: np.divide(np.subtract(np.minimum(np.minimum(x[1], x[0]), np.add(3.134528394540091, 0.12006179148642815)), np.power(np.minimum(x[1], x[0]), np.cbrt(x[1]))), np.power(9.539764686031283, 9.244236478213807))\n",
      "Generation 1001, Island: 1, Best Fitness: 1.0741149275343745e-18, Best Formula: np.multiply(np.power(np.add(np.subtract(4.816208480018444, x[0]), np.multiply(3.2548353627589997, 4.816208480018444)), -7.528946770744797), np.multiply(np.minimum(np.minimum(5.1009025980894265, x[0]), x[1]), np.subtract(np.arccos(-0.7142639711831897), x[1])))\n",
      "Generation 1001, Island: 2, Best Fitness: 7.079711983304432e-19, Best Formula: np.divide(np.remainder(np.maximum(np.remainder(-3.4562835029383354, 6.640532133445149), np.ceil(x[0])), np.remainder(0.7144106861150625, np.power(6.640532133445149, -9.80827186072355))), np.add(np.log(x[0]), np.remainder(x[1], -6.670338566717097)))\n",
      "Generation 1001, Island: 3, Best Fitness: 3.669921690603792e-18, Best Formula: np.multiply(np.power(np.add(np.subtract(-8.07928729799915, 9.875876555275017), np.multiply(7.909916630317696, 5.097149027011255)), -7.528946770744797), np.add(np.minimum(np.multiply(-7.9111368290191315, x[1]), np.minimum(-8.07928729799915, -8.146430123388988)), np.multiply(np.subtract(3.948471047567704, x[0]), np.multiply(x[0], 6.445891273953059))))\n"
     ]
    },
    {
     "name": "stderr",
     "output_type": "stream",
     "text": [
      "  1%|          | 1103/200000 [00:56<3:11:18, 17.33it/s]"
     ]
    },
    {
     "name": "stdout",
     "output_type": "stream",
     "text": [
      "Generation 1101, Island: 0, Best Fitness: 1.3274416383536323e-18, Best Formula: np.divide(np.subtract(np.multiply(np.minimum(x[1], x[0]), np.power(9.244236478213807, 0.12006179148642815)), np.power(np.minimum(x[1], x[0]), np.cbrt(x[1]))), np.power(9.244236478213807, 9.244236478213807))\n",
      "Generation 1101, Island: 1, Best Fitness: 1.0741149275343745e-18, Best Formula: np.multiply(np.power(np.add(np.subtract(4.816208480018444, x[0]), np.multiply(3.2548353627589997, 4.816208480018444)), -7.528946770744797), np.multiply(np.minimum(np.minimum(5.1009025980894265, x[0]), x[1]), np.subtract(np.arccos(-0.7142639711831897), x[1])))\n",
      "Generation 1101, Island: 2, Best Fitness: 7.079711983304432e-19, Best Formula: np.divide(np.remainder(np.maximum(np.remainder(-3.4562835029383354, 6.640532133445149), np.ceil(x[0])), np.remainder(0.7144106861150625, np.power(6.640532133445149, -9.80827186072355))), np.add(np.log(x[0]), np.remainder(x[1], -6.670338566717097)))\n",
      "Generation 1101, Island: 3, Best Fitness: 3.669894867520722e-18, Best Formula: np.multiply(np.power(np.add(np.subtract(-8.07928729799915, 9.875876555275017), np.multiply(7.909916630317696, 5.097149027011255)), -7.528946770744797), np.add(np.minimum(np.multiply(-7.903959897453321, x[1]), np.minimum(-7.528946770744797, -8.146430123388988)), np.multiply(np.subtract(3.948471047567704, x[0]), np.multiply(x[0], 6.445891273953059))))\n"
     ]
    },
    {
     "name": "stderr",
     "output_type": "stream",
     "text": [
      "  1%|          | 1163/200000 [00:59<3:16:06, 16.90it/s]"
     ]
    },
    {
     "name": "stdout",
     "output_type": "stream",
     "text": [
      "Migration at 1161 gen from 1 to 2\n"
     ]
    },
    {
     "name": "stderr",
     "output_type": "stream",
     "text": [
      "  1%|          | 1203/200000 [01:01<3:17:33, 16.77it/s]"
     ]
    },
    {
     "name": "stdout",
     "output_type": "stream",
     "text": [
      "Generation 1201, Island: 0, Best Fitness: 1.3274416383536323e-18, Best Formula: np.divide(np.subtract(np.multiply(np.minimum(x[1], x[0]), np.power(9.244236478213807, 0.12006179148642815)), np.power(np.minimum(x[1], x[0]), np.cbrt(x[1]))), np.power(9.244236478213807, 9.244236478213807))\n",
      "Generation 1201, Island: 1, Best Fitness: 7.531132680566164e-20, Best Formula: np.multiply(np.power(np.add(np.subtract(4.646051367613548, x[0]), np.multiply(3.2548353627589997, 4.816208480018444)), -9.754496466963964), np.multiply(np.power(np.minimum(4.646051367613548, x[0]), x[1]), np.remainder(np.remainder(x[0], -9.485161092365907), np.minimum(-9.220994985480981, 3.295492859540145))))\n",
      "Generation 1201, Island: 2, Best Fitness: 2.4983733276462838e-20, Best Formula: np.multiply(np.power(np.add(0.7144106861150625, np.multiply(3.2548353627589997, 4.816208480018444)), -9.754496466963964), np.multiply(np.power(np.remainder(x[0], 6.40478407728639), x[1]), np.remainder(np.remainder(-3.4562835029383354, 6.40478407728639), -9.754496466963964)))\n",
      "Generation 1201, Island: 3, Best Fitness: 3.500903848595177e-18, Best Formula: np.multiply(np.power(np.add(np.subtract(-7.528946770744797, -2.5320638929300054), np.multiply(7.909916630317696, 3.4037877151294325)), -7.528946770744797), np.add(np.minimum(np.multiply(-8.146430123388988, x[1]), np.minimum(-7.528946770744797, -8.146430123388988)), np.multiply(np.subtract(3.948471047567704, x[0]), np.add(x[1], 6.445891273953059))))\n"
     ]
    },
    {
     "name": "stderr",
     "output_type": "stream",
     "text": [
      "  1%|          | 1209/200000 [01:02<2:50:55, 19.38it/s]\n"
     ]
    },
    {
     "ename": "KeyboardInterrupt",
     "evalue": "",
     "output_type": "error",
     "traceback": [
      "\u001b[1;31m---------------------------------------------------------------------------\u001b[0m",
      "\u001b[1;31mKeyboardInterrupt\u001b[0m                         Traceback (most recent call last)",
      "Cell \u001b[1;32mIn[16], line 2\u001b[0m\n\u001b[0;32m      1\u001b[0m \u001b[38;5;66;03m# Execute the algorithm\u001b[39;00m\n\u001b[1;32m----> 2\u001b[0m best_tree, best_fitness \u001b[38;5;241m=\u001b[39m \u001b[43mregressor\u001b[49m\u001b[38;5;241;43m.\u001b[39;49m\u001b[43mevolve\u001b[49m\u001b[43m(\u001b[49m\u001b[43muse_std_operators\u001b[49m\u001b[38;5;241;43m=\u001b[39;49m\u001b[38;5;28;43;01mFalse\u001b[39;49;00m\u001b[43m,\u001b[49m\u001b[43mverbose\u001b[49m\u001b[38;5;241;43m=\u001b[39;49m\u001b[38;5;28;43;01mTrue\u001b[39;49;00m\u001b[43m)\u001b[49m   \u001b[38;5;66;03m#use_std_operators=True to use standard operators (+,-,*,/), use verbose=True to print the best tree for each island every 50 iterations\u001b[39;00m\n\u001b[0;32m      4\u001b[0m \u001b[38;5;28mprint\u001b[39m(\u001b[38;5;124mf\u001b[39m\u001b[38;5;124m\"\u001b[39m\u001b[38;5;130;01m\\n\u001b[39;00m\u001b[38;5;124mTrain Fitness: \u001b[39m\u001b[38;5;132;01m{\u001b[39;00mbest_fitness\u001b[38;5;132;01m}\u001b[39;00m\u001b[38;5;124m\"\u001b[39m)\n\u001b[0;32m      5\u001b[0m \u001b[38;5;66;03m# Calculate the fitness on original data\u001b[39;00m\n",
      "Cell \u001b[1;32mIn[14], line 211\u001b[0m, in \u001b[0;36mSymbolicRegression.evolve\u001b[1;34m(self, verbose, use_std_operators)\u001b[0m\n\u001b[0;32m    207\u001b[0m     \u001b[38;5;28;01mif\u001b[39;00m(verbose):\n\u001b[0;32m    208\u001b[0m         \u001b[38;5;28mprint\u001b[39m(\u001b[38;5;124mf\u001b[39m\u001b[38;5;124m\"\u001b[39m\u001b[38;5;124mMigration at \u001b[39m\u001b[38;5;132;01m{\u001b[39;00mgeneration\u001b[38;5;132;01m}\u001b[39;00m\u001b[38;5;124m gen from \u001b[39m\u001b[38;5;132;01m{\u001b[39;00mi\u001b[38;5;132;01m}\u001b[39;00m\u001b[38;5;124m to \u001b[39m\u001b[38;5;132;01m{\u001b[39;00misland_to_migrate\u001b[38;5;132;01m}\u001b[39;00m\u001b[38;5;124m\"\u001b[39m)\n\u001b[1;32m--> 211\u001b[0m new_population\u001b[38;5;241m=\u001b[39m\u001b[38;5;28;43mself\u001b[39;49m\u001b[38;5;241;43m.\u001b[39;49m\u001b[43moffspring_generation\u001b[49m\u001b[43m(\u001b[49m\u001b[43misland\u001b[49m\u001b[38;5;241;43m=\u001b[39;49m\u001b[43mi\u001b[49m\u001b[43m)\u001b[49m\n\u001b[0;32m    213\u001b[0m \u001b[38;5;28mself\u001b[39m\u001b[38;5;241m.\u001b[39mpopulation[i]\u001b[38;5;241m=\u001b[39mnp\u001b[38;5;241m.\u001b[39mconcatenate((\u001b[38;5;28mself\u001b[39m\u001b[38;5;241m.\u001b[39mpopulation[i],new_population))\n\u001b[0;32m    214\u001b[0m \u001b[38;5;28mself\u001b[39m\u001b[38;5;241m.\u001b[39mpopulation[i]\u001b[38;5;241m.\u001b[39msort()\n",
      "Cell \u001b[1;32mIn[14], line 149\u001b[0m, in \u001b[0;36mSymbolicRegression.offspring_generation\u001b[1;34m(self, island)\u001b[0m\n\u001b[0;32m    146\u001b[0m offspring1, offspring2 \u001b[38;5;241m=\u001b[39m parent1\u001b[38;5;241m.\u001b[39mcrossover(parent2)\n\u001b[0;32m    147\u001b[0m \u001b[38;5;28;01mif\u001b[39;00m(offspring1 \u001b[38;5;129;01mis\u001b[39;00m \u001b[38;5;129;01mnot\u001b[39;00m \u001b[38;5;28;01mNone\u001b[39;00m \u001b[38;5;129;01mand\u001b[39;00m offspring2 \u001b[38;5;129;01mis\u001b[39;00m \u001b[38;5;129;01mnot\u001b[39;00m \u001b[38;5;28;01mNone\u001b[39;00m):\n\u001b[1;32m--> 149\u001b[0m     \u001b[43moffspring1\u001b[49m\u001b[38;5;241;43m.\u001b[39;49m\u001b[43mcompute_fitness\u001b[49m\u001b[43m(\u001b[49m\u001b[43m)\u001b[49m\n\u001b[0;32m    150\u001b[0m     offspring2\u001b[38;5;241m.\u001b[39mcompute_fitness()\n\u001b[0;32m    152\u001b[0m     offsprings \u001b[38;5;241m=\u001b[39m np\u001b[38;5;241m.\u001b[39mappend(offsprings, [offspring1, offspring2])\n",
      "File \u001b[1;32mc:\\Users\\xhois\\Desktop\\CI2024_project-work\\src\\tree.py:497\u001b[0m, in \u001b[0;36mTree.compute_fitness\u001b[1;34m(self, test)\u001b[0m\n\u001b[0;32m    494\u001b[0m eval_formula \u001b[38;5;241m=\u001b[39m \u001b[38;5;28meval\u001b[39m(\u001b[38;5;124mf\u001b[39m\u001b[38;5;124m\"\u001b[39m\u001b[38;5;124mlambda x: \u001b[39m\u001b[38;5;132;01m{\u001b[39;00mformula\u001b[38;5;132;01m}\u001b[39;00m\u001b[38;5;124m\"\u001b[39m,{\u001b[38;5;124m\"\u001b[39m\u001b[38;5;124mnp\u001b[39m\u001b[38;5;124m\"\u001b[39m: np, \u001b[38;5;124m\"\u001b[39m\u001b[38;5;124mnan\u001b[39m\u001b[38;5;124m\"\u001b[39m: np\u001b[38;5;241m.\u001b[39mnan, \u001b[38;5;124m\"\u001b[39m\u001b[38;5;124minf\u001b[39m\u001b[38;5;124m\"\u001b[39m: np\u001b[38;5;241m.\u001b[39minf}) \n\u001b[0;32m    496\u001b[0m \u001b[38;5;66;03m# Exploiting np broadcasting\u001b[39;00m\n\u001b[1;32m--> 497\u001b[0m y_pred \u001b[38;5;241m=\u001b[39m \u001b[43meval_formula\u001b[49m\u001b[43m(\u001b[49m\u001b[43mx_data\u001b[49m\u001b[43m)\u001b[49m  \n\u001b[0;32m    500\u001b[0m \u001b[38;5;28;01mif\u001b[39;00m np\u001b[38;5;241m.\u001b[39many(np\u001b[38;5;241m.\u001b[39misnan(y_pred)) \u001b[38;5;129;01mor\u001b[39;00m np\u001b[38;5;241m.\u001b[39many(np\u001b[38;5;241m.\u001b[39misinf(y_pred)):\n\u001b[0;32m    501\u001b[0m     \u001b[38;5;28mself\u001b[39m\u001b[38;5;241m.\u001b[39mfitness \u001b[38;5;241m=\u001b[39m np\u001b[38;5;241m.\u001b[39minf\n",
      "File \u001b[1;32m<string>:1\u001b[0m, in \u001b[0;36m<lambda>\u001b[1;34m(x)\u001b[0m\n",
      "\u001b[1;31mKeyboardInterrupt\u001b[0m: "
     ]
    }
   ],
   "source": [
    "\n",
    "# Execute the algorithm\n",
    "best_tree, best_fitness = regressor.evolve(use_std_operators=False,verbose=True)   #use_std_operators=True to use standard operators (+,-,*,/), use verbose=True to print the best tree for each island every 50 iterations\n",
    "\n",
    "print(f\"\\nTrain Fitness: {best_fitness}\")\n",
    "# Calculate the fitness on original data\n",
    "best_tree.compute_fitness(test=\"test\")\n",
    "\n",
    "\n",
    "\n",
    "\n",
    "print(f\"Test Fitness: {best_tree.fitness}\")\n",
    "print(f\"Train-Test Discrepancy: {best_fitness-best_tree.fitness}\")\n",
    "best_tree.compute_fitness(test=\"all\")\n",
    "print(f\"Global Fitness: {best_tree.fitness}\")\n",
    "\n",
    "\n",
    "#Print the best tree\n",
    "print(f\"Best Fitness History: {[tup[0] for tup in regressor.best_fitness_history]}, changed {len(regressor.best_fitness_history)} times\\n\")\n",
    "\n",
    "print(f\"Best Formula: {best_tree.to_np_formula(use_std_operators=False)}\\n\")\n",
    "print(f\"Best Formula with standard operators: {best_tree.to_np_formula(use_std_operators=True)}\")\n",
    "\n"
   ]
  },
  {
   "cell_type": "markdown",
   "metadata": {},
   "source": [
    "### Best Tree Drawing"
   ]
  },
  {
   "cell_type": "code",
   "execution_count": null,
   "metadata": {},
   "outputs": [],
   "source": [
    "tree_clone = best_tree.copy_tree()  \n",
    "Tree.collapse_branch(tree_clone.root,0,force_collapse=True)\n",
    "tree_clone.compute_fitness()           \n",
    "if(tree_clone.fitness is not None or tree_clone.fitness is not np.inf and tree_clone.fitness is not np.nan):\n",
    "                    best_tree = tree_clone\n",
    "\n",
    "\n",
    "print(f\"Collapsed formula: {best_tree.to_np_formula(use_std_operators=False)}\\n\") #use_std_operators=True to use standard operators (+,-,*,/)\n",
    "print(\"Tree drawing (after collapsing):\")\n",
    "best_tree.add_drawing()\n"
   ]
  },
  {
   "cell_type": "code",
   "execution_count": null,
   "metadata": {},
   "outputs": [],
   "source": [
    "#Print graph of best fitness over generations\n",
    "import matplotlib.pyplot as plt\n",
    "plt.plot([tup[1] for tup in regressor.best_fitness_history], [tup[0] for tup in regressor.best_fitness_history])\n",
    "plt.xlabel('Generation')\n",
    "plt.ylabel('Best Fitness')\n",
    "plt.title('Best Fitness over Generations')\n",
    "plt.show()"
   ]
  }
 ],
 "metadata": {
  "kernelspec": {
   "display_name": "CI_24-25",
   "language": "python",
   "name": "python3"
  },
  "language_info": {
   "codemirror_mode": {
    "name": "ipython",
    "version": 3
   },
   "file_extension": ".py",
   "mimetype": "text/x-python",
   "name": "python",
   "nbconvert_exporter": "python",
   "pygments_lexer": "ipython3",
   "version": "3.13.1"
  }
 },
 "nbformat": 4,
 "nbformat_minor": 2
}
